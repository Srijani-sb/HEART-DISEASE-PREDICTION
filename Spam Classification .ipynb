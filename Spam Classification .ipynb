{
 "nbformat": 4,
 "nbformat_minor": 0,
 "metadata": {
  "kernelspec": {
   "display_name": "Python 3",
   "language": "python",
   "name": "python3"
  },
  "language_info": {
   "codemirror_mode": {
    "name": "ipython",
    "version": 3
   },
   "file_extension": ".py",
   "mimetype": "text/x-python",
   "name": "python",
   "nbconvert_exporter": "python",
   "pygments_lexer": "ipython3",
   "version": "3.7.3"
  },
  "colab": {
   "name": "Spam Classification .ipynb",
   "provenance": []
  }
 },
 "cells": [
  {
   "cell_type": "markdown",
   "metadata": {
    "id": "-KzX_NUfklfr"
   },
   "source": [
    "# Demo - Understanding data set"
   ]
  },
  {
   "cell_type": "code",
   "metadata": {
    "id": "1S9vQrj5LI7Z",
    "executionInfo": {
     "status": "ok",
     "timestamp": 1633701431958,
     "user_tz": -330,
     "elapsed": 602,
     "user": {
      "displayName": "Prakriti Verma",
      "photoUrl": "https://lh3.googleusercontent.com/a/default-user=s64",
      "userId": "15319298446897028221"
     }
    }
   },
   "source": [
    "import pandas as pd\n",
    "import numpy as np\n",
    "import spacy"
   ],
   "execution_count": 1,
   "outputs": [
    {
     "ename": "ModuleNotFoundError",
     "evalue": "No module named 'pandas'",
     "output_type": "error",
     "traceback": [
      "\u001B[1;31m---------------------------------------------------------------------------\u001B[0m",
      "\u001B[1;31mModuleNotFoundError\u001B[0m                       Traceback (most recent call last)",
      "Input \u001B[1;32mIn [1]\u001B[0m, in \u001B[0;36m<cell line: 1>\u001B[1;34m()\u001B[0m\n\u001B[1;32m----> 1\u001B[0m \u001B[38;5;28;01mimport\u001B[39;00m \u001B[38;5;21;01mpandas\u001B[39;00m \u001B[38;5;28;01mas\u001B[39;00m \u001B[38;5;21;01mpd\u001B[39;00m\n\u001B[0;32m      2\u001B[0m \u001B[38;5;28;01mimport\u001B[39;00m \u001B[38;5;21;01mnumpy\u001B[39;00m \u001B[38;5;28;01mas\u001B[39;00m \u001B[38;5;21;01mnp\u001B[39;00m\n\u001B[0;32m      3\u001B[0m \u001B[38;5;28;01mimport\u001B[39;00m \u001B[38;5;21;01mspacy\u001B[39;00m\n",
      "\u001B[1;31mModuleNotFoundError\u001B[0m: No module named 'pandas'"
     ]
    }
   ]
  },
  {
   "cell_type": "code",
   "metadata": {
    "id": "EeSJ5Qm6LI7d",
    "executionInfo": {
     "status": "ok",
     "timestamp": 1633701435045,
     "user_tz": -330,
     "elapsed": 896,
     "user": {
      "displayName": "Prakriti Verma",
      "photoUrl": "https://lh3.googleusercontent.com/a/default-user=s64",
      "userId": "15319298446897028221"
     }
    }
   },
   "source": [
    "nlp = spacy.load('en_core_web_sm')"
   ],
   "execution_count": null,
   "outputs": []
  },
  {
   "cell_type": "code",
   "metadata": {
    "id": "FGBDl6CVLI7e",
    "executionInfo": {
     "status": "ok",
     "timestamp": 1633701878414,
     "user_tz": -330,
     "elapsed": 502,
     "user": {
      "displayName": "Prakriti Verma",
      "photoUrl": "https://lh3.googleusercontent.com/a/default-user=s64",
      "userId": "15319298446897028221"
     }
    }
   },
   "source": [
    "data = pd.read_csv('spam.csv',encoding='cp1252')"
   ],
   "execution_count": null,
   "outputs": []
  },
  {
   "cell_type": "code",
   "metadata": {
    "id": "58G1Cz0CLI7g",
    "colab": {
     "base_uri": "https://localhost:8080/",
     "height": 203
    },
    "executionInfo": {
     "status": "ok",
     "timestamp": 1633701700228,
     "user_tz": -330,
     "elapsed": 513,
     "user": {
      "displayName": "Prakriti Verma",
      "photoUrl": "https://lh3.googleusercontent.com/a/default-user=s64",
      "userId": "15319298446897028221"
     }
    },
    "outputId": "3228269a-13c3-4a46-c36f-bea29fdb6366"
   },
   "source": [
    "data.head()"
   ],
   "execution_count": null,
   "outputs": []
  },
  {
   "cell_type": "code",
   "metadata": {
    "id": "q4rmGlkgLI7i",
    "executionInfo": {
     "status": "ok",
     "timestamp": 1633703688715,
     "user_tz": -330,
     "elapsed": 760,
     "user": {
      "displayName": "Prakriti Verma",
      "photoUrl": "https://lh3.googleusercontent.com/a/default-user=s64",
      "userId": "15319298446897028221"
     }
    }
   },
   "source": [
    "data = data[['v1','v2']]"
   ],
   "execution_count": null,
   "outputs": []
  },
  {
   "cell_type": "code",
   "metadata": {
    "id": "_msguGpqLI7j",
    "executionInfo": {
     "status": "ok",
     "timestamp": 1633701590633,
     "user_tz": -330,
     "elapsed": 531,
     "user": {
      "displayName": "Prakriti Verma",
      "photoUrl": "https://lh3.googleusercontent.com/a/default-user=s64",
      "userId": "15319298446897028221"
     }
    }
   },
   "source": [
    "data['v1'] = data['v1'].apply(lambda x:0 if x=='ham' else 1)"
   ],
   "execution_count": null,
   "outputs": []
  },
  {
   "cell_type": "code",
   "metadata": {
    "id": "MRPlFjQRLI7k"
   },
   "source": [
    "data"
   ],
   "execution_count": null,
   "outputs": []
  },
  {
   "cell_type": "markdown",
   "metadata": {
    "id": "JwnWowuTksN1"
   },
   "source": [
    "# Demo 2 - Text Pre-Processing"
   ]
  },
  {
   "cell_type": "code",
   "metadata": {
    "id": "ui4UYQNlLI7l",
    "executionInfo": {
     "status": "ok",
     "timestamp": 1633703249817,
     "user_tz": -330,
     "elapsed": 497,
     "user": {
      "displayName": "Prakriti Verma",
      "photoUrl": "https://lh3.googleusercontent.com/a/default-user=s64",
      "userId": "15319298446897028221"
     }
    }
   },
   "source": [
    "def process(x):\n",
    "    temp = []\n",
    "    document = nlp(x.lower())\n",
    "    print(document)\n",
    "    for i in document:\n",
    "        if i.is_stop!=True and i.is_punct!= True:\n",
    "            print(i)\n",
    "            temp.append(i.lemma_)\n",
    "            print(temp)\n",
    "        else:\n",
    "            pass\n",
    "        \n",
    "    return (' '.join(temp))"
   ],
   "execution_count": null,
   "outputs": []
  },
  {
   "cell_type": "code",
   "metadata": {
    "id": "9HV1aNgpLI7m"
   },
   "source": [
    "data['v2'] = data['v2'].apply(lambda x: process(x))"
   ],
   "execution_count": null,
   "outputs": []
  },
  {
   "cell_type": "code",
   "metadata": {
    "colab": {
     "base_uri": "https://localhost:8080/",
     "height": 203
    },
    "id": "KF9b8GJgLI7n",
    "executionInfo": {
     "status": "ok",
     "timestamp": 1633703704276,
     "user_tz": -330,
     "elapsed": 522,
     "user": {
      "displayName": "Prakriti Verma",
      "photoUrl": "https://lh3.googleusercontent.com/a/default-user=s64",
      "userId": "15319298446897028221"
     }
    },
    "outputId": "a1b96f00-abb8-4df3-c720-fc172202761b"
   },
   "source": [
    "data.head()"
   ],
   "execution_count": null,
   "outputs": []
  },
  {
   "cell_type": "code",
   "metadata": {
    "id": "OZGwzK05LI7o",
    "executionInfo": {
     "status": "ok",
     "timestamp": 1633703741169,
     "user_tz": -330,
     "elapsed": 1267,
     "user": {
      "displayName": "Prakriti Verma",
      "photoUrl": "https://lh3.googleusercontent.com/a/default-user=s64",
      "userId": "15319298446897028221"
     }
    }
   },
   "source": [
    "from sklearn.feature_extraction.text import TfidfVectorizer"
   ],
   "execution_count": null,
   "outputs": []
  },
  {
   "cell_type": "code",
   "metadata": {
    "id": "Qb5p03t_LI7p",
    "executionInfo": {
     "status": "ok",
     "timestamp": 1633703757387,
     "user_tz": -330,
     "elapsed": 705,
     "user": {
      "displayName": "Prakriti Verma",
      "photoUrl": "https://lh3.googleusercontent.com/a/default-user=s64",
      "userId": "15319298446897028221"
     }
    }
   },
   "source": [
    "vectorizer = TfidfVectorizer(analyzer='word',stop_words='english')"
   ],
   "execution_count": null,
   "outputs": []
  },
  {
   "cell_type": "code",
   "metadata": {
    "id": "iGtb4SwKLI7q",
    "executionInfo": {
     "status": "ok",
     "timestamp": 1633703759460,
     "user_tz": -330,
     "elapsed": 6,
     "user": {
      "displayName": "Prakriti Verma",
      "photoUrl": "https://lh3.googleusercontent.com/a/default-user=s64",
      "userId": "15319298446897028221"
     }
    }
   },
   "source": [
    "text_vector = vectorizer.fit_transform(data['v2'].values.tolist())"
   ],
   "execution_count": null,
   "outputs": []
  },
  {
   "cell_type": "code",
   "metadata": {
    "id": "CcrgmXNKBr0W"
   },
   "source": [
    "print(text_vector)"
   ],
   "execution_count": null,
   "outputs": []
  },
  {
   "cell_type": "markdown",
   "metadata": {
    "id": "IU7tiHmvk5Fe"
   },
   "source": [
    "# Demo 3 - Splitting Data set"
   ]
  },
  {
   "cell_type": "code",
   "metadata": {
    "id": "wKLkwbufLI7r",
    "executionInfo": {
     "status": "ok",
     "timestamp": 1633704600680,
     "user_tz": -330,
     "elapsed": 516,
     "user": {
      "displayName": "Prakriti Verma",
      "photoUrl": "https://lh3.googleusercontent.com/a/default-user=s64",
      "userId": "15319298446897028221"
     }
    }
   },
   "source": [
    "from sklearn.model_selection import train_test_split"
   ],
   "execution_count": 3,
   "outputs": [
    {
     "ename": "ModuleNotFoundError",
     "evalue": "No module named 'sklearn'",
     "output_type": "error",
     "traceback": [
      "\u001B[1;31m---------------------------------------------------------------------------\u001B[0m",
      "\u001B[1;31mModuleNotFoundError\u001B[0m                       Traceback (most recent call last)",
      "Input \u001B[1;32mIn [3]\u001B[0m, in \u001B[0;36m<cell line: 1>\u001B[1;34m()\u001B[0m\n\u001B[1;32m----> 1\u001B[0m \u001B[38;5;28;01mfrom\u001B[39;00m \u001B[38;5;21;01msklearn\u001B[39;00m\u001B[38;5;21;01m.\u001B[39;00m\u001B[38;5;21;01mmodel_selection\u001B[39;00m \u001B[38;5;28;01mimport\u001B[39;00m train_test_split\n",
      "\u001B[1;31mModuleNotFoundError\u001B[0m: No module named 'sklearn'"
     ]
    }
   ]
  },
  {
   "cell_type": "code",
   "metadata": {
    "id": "c00ub7hiLI7s",
    "executionInfo": {
     "status": "ok",
     "timestamp": 1633704601503,
     "user_tz": -330,
     "elapsed": 24,
     "user": {
      "displayName": "Prakriti Verma",
      "photoUrl": "https://lh3.googleusercontent.com/a/default-user=s64",
      "userId": "15319298446897028221"
     }
    }
   },
   "source": [
    "x_train, x_test, y_train, y_test = train_test_split(text_vector.toarray(),data['v1'],test_size=0.2,random_state=20)"
   ],
   "execution_count": null,
   "outputs": []
  },
  {
   "cell_type": "code",
   "metadata": {
    "id": "c-M6sK05YquI"
   },
   "source": [
    "len(x_test)"
   ],
   "execution_count": null,
   "outputs": []
  },
  {
   "cell_type": "markdown",
   "metadata": {
    "id": "zaJLHaPnk-RV"
   },
   "source": [
    "# Demo 4 - Model Building"
   ]
  },
  {
   "cell_type": "code",
   "metadata": {
    "id": "IicSxWPXLI7t",
    "executionInfo": {
     "status": "ok",
     "timestamp": 1633704908591,
     "user_tz": -330,
     "elapsed": 1903,
     "user": {
      "displayName": "Prakriti Verma",
      "photoUrl": "https://lh3.googleusercontent.com/a/default-user=s64",
      "userId": "15319298446897028221"
     }
    }
   },
   "source": [
    "from sklearn.naive_bayes import BernoulliNB"
   ],
   "execution_count": null,
   "outputs": []
  },
  {
   "cell_type": "code",
   "metadata": {
    "id": "lNx0PD7OLI7t"
   },
   "source": [
    "modelB = BernoulliNB()\n",
    "modelB.fit(x_train,y_train)\n",
    "print(modelB.score(x_train,y_train))"
   ],
   "execution_count": null,
   "outputs": []
  },
  {
   "cell_type": "code",
   "metadata": {
    "id": "W8xCQ9DWLI7y",
    "executionInfo": {
     "status": "ok",
     "timestamp": 1633704718657,
     "user_tz": -330,
     "elapsed": 505,
     "user": {
      "displayName": "Prakriti Verma",
      "photoUrl": "https://lh3.googleusercontent.com/a/default-user=s64",
      "userId": "15319298446897028221"
     }
    }
   },
   "source": [
    "y_predictedB = modelB.predict(x_test)"
   ],
   "execution_count": null,
   "outputs": []
  },
  {
   "cell_type": "code",
   "metadata": {
    "id": "lzWv2hAuLI7z",
    "colab": {
     "base_uri": "https://localhost:8080/"
    },
    "executionInfo": {
     "status": "ok",
     "timestamp": 1633704722215,
     "user_tz": -330,
     "elapsed": 513,
     "user": {
      "displayName": "Prakriti Verma",
      "photoUrl": "https://lh3.googleusercontent.com/a/default-user=s64",
      "userId": "15319298446897028221"
     }
    },
    "outputId": "92e6997e-7e1f-46ef-94d2-e5ad5a62039b"
   },
   "source": [
    "from sklearn.metrics import accuracy_score\n",
    "\n",
    "print(accuracy_score(y_test,y_predictedB))"
   ],
   "execution_count": null,
   "outputs": []
  },
  {
   "cell_type": "markdown",
   "metadata": {
    "id": "Bi86Ym_4LI72"
   },
   "source": [
    "## Best model is BernoulliNB with  98% Accuracy"
   ]
  },
  {
   "cell_type": "code",
   "metadata": {
    "id": "tBf0p5h_n4l6"
   },
   "source": [
    "Code - https://drive.google.com/drive/folders/1CCKDoNOmkZRqDbaZdO_kJcE0xBq6T2CR?usp=sharing\n",
    "Career Roadmap - https://www.techlearn.live/course/data-science-career-roadmap\n",
    "Feedback Link: https://www.techlearn.live/feedback?scheduleId=61570c7afc6d0a75673e09b3\n"
   ],
   "execution_count": null,
   "outputs": []
  }
 ]
}